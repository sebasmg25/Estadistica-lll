{
 "cells": [
  {
   "cell_type": "code",
   "execution_count": null,
   "id": "8adcfab3",
   "metadata": {},
   "outputs": [],
   "source": [
    "import numpy as np\n",
    "import pandas as pd\n",
    "import plotly\n",
    "import matplotlib.pyplot as plt\n",
    "import plotly.graph_objs as go\n",
    "from matplotlib import style\n",
    "import seaborn as sns\n",
    "from scipy import stats\n",
    "from scipy.stats import shapiro\n",
    "%matplotlib inline\n",
    "import plotly.express as px"
   ]
  },
  {
   "cell_type": "code",
   "execution_count": null,
   "id": "951e83d0",
   "metadata": {},
   "outputs": [],
   "source": [
    "data = pd.read_csv('./CARS.csv')\n",
    "data.head()"
   ]
  },
  {
   "cell_type": "code",
   "execution_count": null,
   "id": "ba9d1b7b",
   "metadata": {},
   "outputs": [],
   "source": [
    "data.describe()"
   ]
  },
  {
   "cell_type": "code",
   "execution_count": null,
   "id": "425b58c7",
   "metadata": {},
   "outputs": [],
   "source": [
    "data.dtypes"
   ]
  },
  {
   "cell_type": "code",
   "execution_count": null,
   "id": "90b252b5",
   "metadata": {},
   "outputs": [],
   "source": [
    "new_data= data['Make'].value_counts().plot(kind=\"bar\", fontsize = 15, color=['green'], figsize=(10,5),title='Marcas')"
   ]
  },
  {
   "cell_type": "code",
   "execution_count": null,
   "id": "b2e48da1",
   "metadata": {},
   "outputs": [],
   "source": [
    "new_data= data['Model'].value_counts().plot(kind=\"bar\", fontsize = 15, color=['green'], figsize=(80,15),title='Modelos')"
   ]
  },
  {
   "cell_type": "code",
   "execution_count": null,
   "id": "dbcd84ee",
   "metadata": {},
   "outputs": [],
   "source": [
    "new_data= data['Type'].value_counts().plot(kind=\"bar\", fontsize = 15, color=['green'], figsize=(10,5),title='tipo')"
   ]
  },
  {
   "cell_type": "code",
   "execution_count": null,
   "id": "ddd5cb86",
   "metadata": {},
   "outputs": [],
   "source": [
    "new_data= data['Origin'].value_counts().plot(kind=\"bar\", fontsize = 15, color=['green'], figsize=(5,5),title='Origen')"
   ]
  },
  {
   "cell_type": "code",
   "execution_count": null,
   "id": "f8b84d8d",
   "metadata": {},
   "outputs": [],
   "source": [
    "new_data= data['DriveTrain'].value_counts().plot(kind=\"bar\", fontsize = 15, color=['green'], figsize=(5,5),title='Conductor')"
   ]
  },
  {
   "cell_type": "code",
   "execution_count": null,
   "id": "a5b0c23f",
   "metadata": {},
   "outputs": [],
   "source": [
    "new_data= data['Origin'].value_counts().plot(kind=\"bar\", fontsize = 15, color=['green'], figsize=(10,5),title='Origen')"
   ]
  },
  {
   "cell_type": "code",
   "execution_count": null,
   "id": "ce2c7aef",
   "metadata": {},
   "outputs": [],
   "source": [
    "data[\"Invoice\"] = data[\"Invoice\"].replace('[\\$,]', '', regex=True).astype(float)\n",
    "col = ['Invoice',\"EngineSize\"\t,\"Cylinders\",\t\"Horsepower\",\t\"MPG_City\",\t\"MPG_Highway\",\t\"Weight\",\t\"Wheelbase\",\t\"Length\"]\n",
    "df_stand = (data[col] - data[col].mean())/data[col].std()\n",
    "df_stand"
   ]
  },
  {
   "cell_type": "code",
   "execution_count": null,
   "id": "422dfd98",
   "metadata": {},
   "outputs": [],
   "source": [
    "data_sinoutliers = df_stand.query(\n",
    "                \"(Invoice < 4.0 or Invoice >-4.0)\"\n",
    "                \"or (EngineSize < 4.0 or EngineSize >-4.0)\"\n",
    "                \"or (Cylinders < 4.0 or Cylinders >-4.0)\"\n",
    "                \" or (Horsepower < 4.0 or Horsepower >-4.0)\"\n",
    "                \"or (MPG_City < 4.0 or MPG_City >-4.0)\"\n",
    "                \"or (MPG_Highway < 4.0 or MPG_Highway >-4.0)\"\n",
    "                \"or (Weight < 4.0 or Weight >-4.0)\"\n",
    "                \"or (Wheelbase < 4.0 or Wheelbase >-4.0)\"\n",
    "                \"or (Length < 4.0 or Length >-4.0)\")\n",
    "data_sinoutliers"
   ]
  },
  {
   "cell_type": "code",
   "execution_count": null,
   "id": "cb62dd4c",
   "metadata": {},
   "outputs": [],
   "source": [
    "plt.hist(data[[\"EngineSize\"]])"
   ]
  },
  {
   "cell_type": "code",
   "execution_count": null,
   "id": "fad27c01",
   "metadata": {},
   "outputs": [],
   "source": [
    "plt.hist(data[\"Length\"])"
   ]
  },
  {
   "cell_type": "code",
   "execution_count": null,
   "id": "cf13d6c1",
   "metadata": {},
   "outputs": [],
   "source": [
    "plt.hist(data[\"Cylinders\"])"
   ]
  },
  {
   "cell_type": "code",
   "execution_count": null,
   "id": "5dfa0b81",
   "metadata": {},
   "outputs": [],
   "source": [
    "plt.hist(data[\"MPG_City\"])"
   ]
  },
  {
   "cell_type": "code",
   "execution_count": null,
   "id": "f4d49a01",
   "metadata": {},
   "outputs": [],
   "source": [
    "plt.hist(data[\"MPG_Highway\"])"
   ]
  },
  {
   "cell_type": "code",
   "execution_count": null,
   "id": "6ea363bd",
   "metadata": {},
   "outputs": [],
   "source": [
    "plt.hist(data[\"Weight\"])"
   ]
  },
  {
   "cell_type": "code",
   "execution_count": null,
   "id": "8a8c3a65",
   "metadata": {},
   "outputs": [],
   "source": [
    "plt.hist(data[\"Horsepower\"])"
   ]
  },
  {
   "cell_type": "code",
   "execution_count": null,
   "id": "941c584e",
   "metadata": {},
   "outputs": [],
   "source": [
    "plt.hist(data[\"Wheelbase\"])"
   ]
  },
  {
   "cell_type": "code",
   "execution_count": null,
   "id": "0dbea3f6",
   "metadata": {},
   "outputs": [],
   "source": [
    "plt.hist(data[\"Invoice\"])"
   ]
  },
  {
   "cell_type": "code",
   "execution_count": null,
   "id": "1be0aaaa",
   "metadata": {},
   "outputs": [],
   "source": [
    "fig = px.box(data,x= \"Make\",y = \"MPG_City\")\n",
    "fig.show()"
   ]
  },
  {
   "cell_type": "code",
   "execution_count": null,
   "id": "8df6e4aa",
   "metadata": {},
   "outputs": [],
   "source": [
    "fig = px.box(data,x= \"Type\",y = \"MPG_City\")\n",
    "fig.show()"
   ]
  },
  {
   "cell_type": "code",
   "execution_count": null,
   "id": "bd76df6d",
   "metadata": {},
   "outputs": [],
   "source": [
    "fig = px.box(data,x= \"Origin\",y = \"MPG_City\")\n",
    "fig.show()"
   ]
  },
  {
   "cell_type": "code",
   "execution_count": null,
   "id": "2879c52a",
   "metadata": {},
   "outputs": [],
   "source": [
    "fig = px.box(data,x = \"DriveTrain\", y = \"MPG_City\")\n",
    "fig.show()"
   ]
  },
  {
   "cell_type": "code",
   "execution_count": null,
   "id": "eaa746c1",
   "metadata": {},
   "outputs": [],
   "source": [
    "fig = px.scatter_matrix(data[[\"MPG_City\",\"Invoice\"]])\n",
    "fig.show()"
   ]
  },
  {
   "cell_type": "code",
   "execution_count": null,
   "id": "1f42349a",
   "metadata": {},
   "outputs": [],
   "source": [
    "fig = px.scatter_matrix(data[[\"MPG_City\",\"EngineSize\"]])\n",
    "fig.show()"
   ]
  },
  {
   "cell_type": "code",
   "execution_count": null,
   "id": "05a9d531",
   "metadata": {},
   "outputs": [],
   "source": [
    "fig = px.scatter_matrix(data[[\"MPG_City\",\"Cylinders\"]])\n",
    "fig.show()"
   ]
  },
  {
   "cell_type": "code",
   "execution_count": null,
   "id": "68b87c82",
   "metadata": {},
   "outputs": [],
   "source": [
    "fig = px.scatter_matrix(data[[\"MPG_City\",\"Horsepower\"]])\n",
    "fig.show()"
   ]
  },
  {
   "cell_type": "code",
   "execution_count": null,
   "id": "dc9ff2d2",
   "metadata": {},
   "outputs": [],
   "source": [
    "fig = px.scatter_matrix(data[[\"MPG_City\",\"MPG_Highway\"]])\n",
    "fig.show()"
   ]
  },
  {
   "cell_type": "code",
   "execution_count": null,
   "id": "4413745c",
   "metadata": {},
   "outputs": [],
   "source": [
    "fig = px.scatter_matrix(data[[\"MPG_City\",\"Weight\"]])\n",
    "fig.show()"
   ]
  },
  {
   "cell_type": "code",
   "execution_count": null,
   "id": "352edae0",
   "metadata": {},
   "outputs": [],
   "source": [
    "fig = px.scatter_matrix(data[[\"MPG_City\",\"Wheelbase\"]])\n",
    "fig.show()"
   ]
  },
  {
   "cell_type": "code",
   "execution_count": null,
   "id": "6e649713",
   "metadata": {},
   "outputs": [],
   "source": [
    "fig = px.scatter_matrix(data[[\"MPG_City\",\"Length\"]])\n",
    "fig.show()"
   ]
  },
  {
   "cell_type": "code",
   "execution_count": null,
   "id": "e058719a",
   "metadata": {},
   "outputs": [],
   "source": [
    "corr = data.corr ()\n",
    "corr.style.background_gradient (cmap = 'coolwarm')"
   ]
  },
  {
   "cell_type": "code",
   "execution_count": null,
   "id": "7e5aef2b",
   "metadata": {},
   "outputs": [],
   "source": [
    "corr = data_sinoutliers.corr ()\n",
    "corr.style.background_gradient (cmap = 'coolwarm')"
   ]
  }
 ],
 "metadata": {
  "kernelspec": {
   "display_name": "Python 3 (ipykernel)",
   "language": "python",
   "name": "python3"
  },
  "language_info": {
   "codemirror_mode": {
    "name": "ipython",
    "version": 3
   },
   "file_extension": ".py",
   "mimetype": "text/x-python",
   "name": "python",
   "nbconvert_exporter": "python",
   "pygments_lexer": "ipython3",
   "version": "3.11.2"
  }
 },
 "nbformat": 4,
 "nbformat_minor": 5
}
